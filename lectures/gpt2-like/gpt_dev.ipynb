{
 "cells": [
  {
   "cell_type": "code",
   "execution_count": 8,
   "id": "650fb371-2d71-4967-b6c5-120e056e58e6",
   "metadata": {},
   "outputs": [],
   "source": [
    "import torch"
   ]
  },
  {
   "cell_type": "code",
   "execution_count": 9,
   "id": "6eb4975e-6b7e-4d9d-8629-064c4025cfc7",
   "metadata": {},
   "outputs": [],
   "source": [
    "with open('input.txt', 'r', encoding='utf8') as f:\n",
    "    text = f.read()"
   ]
  },
  {
   "cell_type": "code",
   "execution_count": 10,
   "id": "30a83b5d-f4d3-45db-be8f-8eb4130d6e38",
   "metadata": {
    "scrolled": true
   },
   "outputs": [],
   "source": [
    "chars = sorted(list(set(text)))\n",
    "vocab_size = len(chars)\n",
    "\n",
    "itos = { i:s for i,s in enumerate(chars)}\n",
    "stoi = { s:i for i,s in enumerate(chars)}\n",
    "\n",
    "encode = lambda s: [stoi[c] for c in s]\n",
    "decode = lambda l: ''.join([itos[i] for i in l])\n",
    "\n",
    "# print(encode('hello'))\n",
    "# print(decode([46, 43, 50, 50, 53]))"
   ]
  },
  {
   "cell_type": "code",
   "execution_count": 11,
   "id": "b9108130-526d-4396-aac2-b1ea0dc1e85c",
   "metadata": {},
   "outputs": [
    {
     "name": "stdout",
     "output_type": "stream",
     "text": [
      "torch.Size([1115394])\n",
      "tensor([18, 47, 56, 57, 58,  1, 15, 47, 58, 47, 64, 43, 52, 10,  0, 14, 43, 44,\n",
      "        53, 56, 43,  1, 61, 43,  1, 54, 56, 53, 41, 43, 43, 42,  1, 39, 52, 63,\n",
      "         1, 44, 59, 56, 58, 46, 43, 56,  6,  1, 46, 43, 39, 56,  1, 51, 43,  1,\n",
      "        57, 54, 43, 39, 49,  8,  0,  0, 13, 50, 50, 10,  0, 31, 54, 43, 39, 49,\n",
      "         6,  1, 57, 54, 43, 39, 49,  8,  0,  0, 18, 47, 56, 57, 58,  1, 15, 47,\n",
      "        58, 47, 64, 43, 52, 10,  0, 37, 53, 59])\n"
     ]
    }
   ],
   "source": [
    "data = torch.tensor(encode(text), dtype=torch.long)\n",
    "print(data.shape)\n",
    "print(data[:100])"
   ]
  },
  {
   "cell_type": "code",
   "execution_count": 12,
   "id": "3217b246-1b76-49a8-b5ce-89f03b5183bc",
   "metadata": {},
   "outputs": [
    {
     "name": "stdout",
     "output_type": "stream",
     "text": [
      "torch.Size([1003854]) torch.Size([111540])\n"
     ]
    }
   ],
   "source": [
    "n = int(0.9*len(data))\n",
    "train_data = data[:n]\n",
    "val_data = data[n:]\n",
    "print(train_data.shape, val_data.shape)\n"
   ]
  },
  {
   "cell_type": "code",
   "execution_count": 13,
   "id": "97990ab6-fd4a-4e8c-b417-16a1e3a6addf",
   "metadata": {
    "scrolled": true
   },
   "outputs": [
    {
     "name": "stdout",
     "output_type": "stream",
     "text": [
      "inputs:\n",
      "torch.Size([4, 8])\n",
      "tensor([[24, 43, 58,  5, 57,  1, 46, 43],\n",
      "        [44, 53, 56,  1, 58, 46, 39, 58],\n",
      "        [52, 58,  1, 58, 46, 39, 58,  1],\n",
      "        [25, 17, 27, 10,  0, 21,  1, 54]])\n",
      "targets:\n",
      "torch.Size([4, 8])\n",
      "tensor([[43, 58,  5, 57,  1, 46, 43, 39],\n",
      "        [53, 56,  1, 58, 46, 39, 58,  1],\n",
      "        [58,  1, 58, 46, 39, 58,  1, 46],\n",
      "        [17, 27, 10,  0, 21,  1, 54, 39]])\n",
      "----\n",
      "when input is [24] the target is: 43\n",
      "when input is [24, 43] the target is: 58\n",
      "when input is [24, 43, 58] the target is: 5\n",
      "when input is [24, 43, 58, 5] the target is: 57\n",
      "when input is [24, 43, 58, 5, 57] the target is: 1\n",
      "when input is [24, 43, 58, 5, 57, 1] the target is: 46\n",
      "when input is [24, 43, 58, 5, 57, 1, 46] the target is: 43\n",
      "when input is [24, 43, 58, 5, 57, 1, 46, 43] the target is: 39\n",
      "when input is [44] the target is: 53\n",
      "when input is [44, 53] the target is: 56\n",
      "when input is [44, 53, 56] the target is: 1\n",
      "when input is [44, 53, 56, 1] the target is: 58\n",
      "when input is [44, 53, 56, 1, 58] the target is: 46\n",
      "when input is [44, 53, 56, 1, 58, 46] the target is: 39\n",
      "when input is [44, 53, 56, 1, 58, 46, 39] the target is: 58\n",
      "when input is [44, 53, 56, 1, 58, 46, 39, 58] the target is: 1\n",
      "when input is [52] the target is: 58\n",
      "when input is [52, 58] the target is: 1\n",
      "when input is [52, 58, 1] the target is: 58\n",
      "when input is [52, 58, 1, 58] the target is: 46\n",
      "when input is [52, 58, 1, 58, 46] the target is: 39\n",
      "when input is [52, 58, 1, 58, 46, 39] the target is: 58\n",
      "when input is [52, 58, 1, 58, 46, 39, 58] the target is: 1\n",
      "when input is [52, 58, 1, 58, 46, 39, 58, 1] the target is: 46\n",
      "when input is [25] the target is: 17\n",
      "when input is [25, 17] the target is: 27\n",
      "when input is [25, 17, 27] the target is: 10\n",
      "when input is [25, 17, 27, 10] the target is: 0\n",
      "when input is [25, 17, 27, 10, 0] the target is: 21\n",
      "when input is [25, 17, 27, 10, 0, 21] the target is: 1\n",
      "when input is [25, 17, 27, 10, 0, 21, 1] the target is: 54\n",
      "when input is [25, 17, 27, 10, 0, 21, 1, 54] the target is: 39\n"
     ]
    }
   ],
   "source": [
    "torch.manual_seed(1337)\n",
    "\n",
    "batch_size = 4\n",
    "block_size = 8\n",
    "\n",
    "def get_batch(split):\n",
    "    data = train_data if split == 'train' else val_data\n",
    "    ix = torch.randint(len(data) - block_size, (batch_size, ))\n",
    "    x = torch.stack([data[i:i+block_size] for i in ix])\n",
    "    y = torch.stack([data[i+1:i+block_size+1] for i in ix])\n",
    "    return x,y\n",
    "\n",
    "xb, yb = get_batch('train')\n",
    "print('inputs:')\n",
    "print(xb.shape)\n",
    "print(xb)\n",
    "print('targets:')\n",
    "print(yb.shape)\n",
    "print(yb)\n",
    "\n",
    "print('----')\n",
    "\n",
    "for b in range(batch_size):\n",
    "    for t in range(block_size):\n",
    "        context = xb[b, :t+1]\n",
    "        target = yb[b, t]\n",
    "        print(f\"when input is {context.tolist()} the target is: {target}\")"
   ]
  },
  {
   "cell_type": "code",
   "execution_count": 14,
   "id": "bfb88a99-4424-4bb7-968c-dea583ab3781",
   "metadata": {},
   "outputs": [
    {
     "name": "stdout",
     "output_type": "stream",
     "text": [
      "torch.Size([4, 8]) torch.Size([4, 8])\n",
      "\n",
      "l-QYjt'CL?jLDuQcLzy'RIo;'KdhpV\n",
      "vLixa,nswYZwLEPS'ptIZqOZJ$CA$zy-QTkeMk x.gQSFCLg!iW3fO!3DGXAqTsq3pdgq\n"
     ]
    }
   ],
   "source": [
    "import torch.nn as nn\n",
    "from torch.nn import functional as F\n",
    "\n",
    "class BigramLanguageModel(nn.Module):\n",
    "\n",
    "    def __init__(self, vocab_size):\n",
    "        super().__init__()\n",
    "        # we have 64 individual tokens we want to embed (first arg), and the embedding dimension is going to be at least as large as \n",
    "        # the entire character space.\n",
    "        self.token_embedding_table = nn.Embedding(vocab_size, vocab_size) # output is (batch, block_size, embed dim)\n",
    "\n",
    "    def forward(self, idx, targets = None):\n",
    "        logits = self.token_embedding_table(idx)\n",
    "        # FROM PYTORCH DOCS:\n",
    "        # INPUT:\n",
    "        # Shape can be one of the following:\n",
    "        # A 1D shape of size (C) where C is the number of classes.\n",
    "        # A 2D shape of size (N, C) where N is the batch size and C is the number of classes.\n",
    "        # A more complex shape of size (N, C, d1, d2, ..., dK) where N is the batch size, C is the number of classes, \n",
    "        # and d1, d2, ..., dK are additional dimensions. This happens when you have a K-dimensional loss, \n",
    "        # and K is greater than or equal to 1.\n",
    "        \n",
    "        # TARGET:\n",
    "        # If the target contains class indices, its shape can be:\n",
    "        # An empty shape (), representing a single value.\n",
    "        # A 1D shape of size (N) where N is the batch size.\n",
    "        # A more complex shape of size (N, d1, d2, ..., dK) where N is the batch size and d1, d2, ..., dK are additional dimensions, similar to the input case where you have a K-dimensional loss, and K is greater than or equal to 1.\n",
    "\n",
    "        #...so, we know we have to view 'targets' as 1D tensor (all the \"next characters\" in a 'column')\n",
    "        # --> (4, 8) => (32).\n",
    "        # AND for the input, we simply need to \"combine\" all of the word embeddings\n",
    "        # down into individual rows. *i.e. the embeddings ARE the NN (though this will\n",
    "        # change later on.\n",
    "        # --> (4, 8, 64) => (32, 64)\n",
    "        if targets is None:\n",
    "            loss = None\n",
    "        else: \n",
    "            B, T, C = logits.shape\n",
    "            logits = logits.view(B*T, C) # combine the batch * and blocks all into one,   \n",
    "            targets = targets.view(B*T) #squash down to a single column\n",
    "            loss = F.cross_entropy(logits, targets)\n",
    "        \n",
    "        return logits, loss \n",
    "\n",
    "    def generate(self, idx, max_new_tokens):\n",
    "        #idx is a (B,T) array of indices in the current context\n",
    "        \n",
    "        for _ in range(max_new_tokens):\n",
    "            #get predictions\n",
    "            logits, _ = self(idx)\n",
    "\n",
    "            logits = logits[:, -1, :] #grab only the last timestep, (B, C)\n",
    "            \n",
    "            probs = F.softmax(logits, dim=-1) # (B, C)\n",
    "\n",
    "            idx_next = torch.multinomial(probs, num_samples=1)\n",
    "\n",
    "            idx = torch.cat((idx, idx_next), dim=1) # (B, T+1)\n",
    "            \n",
    "        return idx\n",
    "            \n",
    "\n",
    "m = BigramLanguageModel(vocab_size)\n",
    "print(xb.shape, yb.shape)\n",
    "logits, loss = m(xb, yb)\n",
    "# print(embeddings.shape, '\\n', logits.shape\n",
    "\n",
    "gen = m.generate(torch.zeros((1,1), dtype=torch.long), max_new_tokens=100)\n",
    "\n",
    "print(decode(gen[0].tolist()))"
   ]
  },
  {
   "cell_type": "code",
   "execution_count": 15,
   "id": "f52c4ac2-1c5c-4f4b-a623-dc36ace7c933",
   "metadata": {},
   "outputs": [],
   "source": [
    "optimizer = torch.optim.AdamW(m.parameters(), lr=1e-3)"
   ]
  },
  {
   "cell_type": "code",
   "execution_count": 9,
   "id": "78efa1ac-c6a2-4a3d-928d-bfaf2ef296ec",
   "metadata": {},
   "outputs": [
    {
     "name": "stdout",
     "output_type": "stream",
     "text": [
      "4.704006195068359\n",
      "4.721118927001953\n",
      "4.653193473815918\n",
      "4.706261157989502\n",
      "4.780904293060303\n",
      "4.751267910003662\n",
      "4.8395490646362305\n",
      "4.667973041534424\n",
      "4.743716716766357\n",
      "4.774043083190918\n",
      "4.6908278465271\n",
      "4.789143085479736\n",
      "4.61777925491333\n",
      "4.650947093963623\n",
      "4.886447429656982\n",
      "4.703796863555908\n",
      "4.757591724395752\n",
      "4.65510892868042\n",
      "4.709283828735352\n",
      "4.6745147705078125\n",
      "4.760501384735107\n",
      "4.7892632484436035\n",
      "4.653748512268066\n",
      "4.6619181632995605\n",
      "4.673007488250732\n",
      "4.66577672958374\n",
      "4.7301106452941895\n",
      "4.755304336547852\n",
      "4.712186813354492\n",
      "4.745501518249512\n",
      "4.726755619049072\n",
      "4.735108375549316\n",
      "4.777461051940918\n",
      "4.643350601196289\n",
      "4.6651835441589355\n",
      "4.79764461517334\n",
      "4.717412948608398\n",
      "4.683647155761719\n",
      "4.81886100769043\n",
      "4.613771915435791\n",
      "4.573785781860352\n",
      "4.560741901397705\n",
      "4.81563138961792\n",
      "4.6061553955078125\n",
      "4.619696140289307\n",
      "4.725419521331787\n",
      "4.650487899780273\n",
      "4.5941481590271\n",
      "4.7202863693237305\n",
      "4.699342250823975\n",
      "4.6724138259887695\n",
      "4.727972984313965\n",
      "4.66152286529541\n",
      "4.616766929626465\n",
      "4.599857807159424\n",
      "4.6533403396606445\n",
      "4.716132164001465\n",
      "4.692666053771973\n",
      "4.6675333976745605\n",
      "4.655758857727051\n",
      "4.655789375305176\n",
      "4.754217624664307\n",
      "4.723147869110107\n",
      "4.617090702056885\n",
      "4.704502582550049\n",
      "4.752079486846924\n",
      "4.569591999053955\n",
      "4.547887802124023\n",
      "4.571099281311035\n",
      "4.569430828094482\n",
      "4.598389148712158\n",
      "4.547847747802734\n",
      "4.591439247131348\n",
      "4.6599297523498535\n",
      "4.623749732971191\n",
      "4.742475509643555\n",
      "4.644272804260254\n",
      "4.642965316772461\n",
      "4.579803943634033\n",
      "4.583383560180664\n",
      "4.721977233886719\n",
      "4.669402599334717\n",
      "4.630046367645264\n",
      "4.55496883392334\n",
      "4.681591987609863\n",
      "4.6749467849731445\n",
      "4.65585994720459\n",
      "4.669306755065918\n",
      "4.64952278137207\n",
      "4.674875736236572\n",
      "4.6534528732299805\n",
      "4.785573959350586\n",
      "4.731050968170166\n",
      "4.596864700317383\n",
      "4.586680889129639\n",
      "4.762486934661865\n",
      "4.741381645202637\n",
      "4.602567672729492\n",
      "4.662181854248047\n",
      "4.587916374206543\n"
     ]
    }
   ],
   "source": [
    "batch_size = 32\n",
    "\n",
    "for steps in range(100):\n",
    "    xb, yb = get_batch('train')\n",
    "\n",
    "    #eval loss\n",
    "    logits, loss = m(xb, yb)\n",
    "    optimizer.zero_grad(set_to_none=True)\n",
    "    loss.backward()\n",
    "    optimizer.step()\n",
    "    \n",
    "    print(loss.item())"
   ]
  },
  {
   "cell_type": "code",
   "execution_count": 19,
   "id": "003f5cd1-d51b-40d1-9174-42d7615c7753",
   "metadata": {},
   "outputs": [],
   "source": [
    "B,T,C = 4,8,2\n",
    "x = torch.randn(B, T, C)\n"
   ]
  },
  {
   "cell_type": "code",
   "execution_count": 20,
   "id": "cf4e597f-80d7-459a-843f-ff4b5ea0af2f",
   "metadata": {},
   "outputs": [
    {
     "data": {
      "text/plain": [
       "tensor([[[-0.0431, -1.6047],\n",
       "         [ 0.8724, -1.0414],\n",
       "         [ 0.5006, -1.0056],\n",
       "         [ 0.3134, -1.0563],\n",
       "         [ 0.0970, -0.6925],\n",
       "         [-0.1804, -0.6170],\n",
       "         [ 0.1772, -0.6665],\n",
       "         [ 0.4053, -0.5249]],\n",
       "\n",
       "        [[ 0.8008,  1.6806],\n",
       "         [ 0.5783,  0.4970],\n",
       "         [ 0.2211,  0.4118],\n",
       "         [-0.1119,  0.3318],\n",
       "         [-0.1398,  0.4374],\n",
       "         [-0.1682,  0.2985],\n",
       "         [-0.0294,  0.1671],\n",
       "         [-0.0997,  0.1383]],\n",
       "\n",
       "        [[ 0.3057, -0.7746],\n",
       "         [ 0.1703, -0.2267],\n",
       "         [ 0.6381, -0.4330],\n",
       "         [ 0.8066, -0.1529],\n",
       "         [ 0.3984, -0.2199],\n",
       "         [ 0.0956, -0.0339],\n",
       "         [ 0.0891,  0.2948],\n",
       "         [ 0.2253,  0.2036]],\n",
       "\n",
       "        [[-0.8140, -0.7360],\n",
       "         [-0.8256, -0.8292],\n",
       "         [ 0.0534, -0.4993],\n",
       "         [ 0.1319, -0.3306],\n",
       "         [-0.1314,  0.0122],\n",
       "         [-0.3099,  0.1282],\n",
       "         [-0.4193,  0.1864],\n",
       "         [-0.2200,  0.2332]]])"
      ]
     },
     "execution_count": 20,
     "metadata": {},
     "output_type": "execute_result"
    }
   ],
   "source": [
    "# toy example - inefficient\n",
    "\n",
    "\n",
    "# we want x[b,t] mean_{i<=t} x[b, i]\n",
    "# xbow = x bog of words - a term for an average of words\n",
    "xbow = torch.zeros((B,T,C))\n",
    "for b in range(B):\n",
    "    for t in range(T):\n",
    "        xprev = x[b, :t+1]\n",
    "        xbow[b,t] = torch.mean(xprev, 0)\n",
    "\n",
    "xbow"
   ]
  },
  {
   "cell_type": "code",
   "execution_count": 22,
   "id": "48413cfd-88ba-4fbe-a001-4bbff3c9fde0",
   "metadata": {},
   "outputs": [
    {
     "data": {
      "text/plain": [
       "True"
      ]
     },
     "execution_count": 22,
     "metadata": {},
     "output_type": "execute_result"
    }
   ],
   "source": [
    "wei = torch.tril(torch.ones(T, T))\n",
    "\n",
    "wei = wei / wei.sum(1, keepdim=True)\n",
    "xbow2 = wei @ x\n",
    "\n",
    "torch.allclose(xbow, xbow2)"
   ]
  },
  {
   "cell_type": "code",
   "execution_count": 31,
   "id": "c91eca1b-aef1-4054-ab98-429c22d70bf5",
   "metadata": {},
   "outputs": [
    {
     "name": "stdout",
     "output_type": "stream",
     "text": [
      "torch.Size([4, 8, 16]) torch.Size([4, 8, 16]) torch.Size([4, 16, 8])\n"
     ]
    }
   ],
   "source": [
    "# Single head of Self Attention\n",
    "\n",
    "head_size = 16\n",
    "key = nn.Linear(C, head_size, bias=False)\n",
    "query = nn.Linear(C, head_size, bias=False)\n",
    "value = nn.Linear(C, head_size, bias=False)\n",
    "k = key(x) #(B, T, head_size)\n",
    "q = query(x) #(B, T, head_size)\n",
    "\n",
    "# print(k.shape, q.shape, k.transpose(-2, -1).shape)\n",
    "\n",
    "wei = q  @ k.transpose(-2, -1) # (B, T, head_size) @ (B, 16, T) ==> (B, T, T)\n",
    "\n",
    "\n",
    "tril = torch.tril(torch.ones(T, T))\n",
    "# wei = torch.zeros((T,T))\n",
    "wei = wei.masked_fill(tril == 0, float('-inf'))\n",
    "wei = F.softmax(wei, dim=-1)\n",
    "v = value(x)\n",
    "\n",
    "out = wei @ v\n",
    "\n",
    "# these lines act like a \"affinity mask\" to x, dictating the importance/ weighting\n",
    "#     # of how much a each column/timestep character in x\n",
    "#     # i.e. in every time-step embedding in the first column should be the only one of importance,\n",
    "#     # whereas, every time-step embedding in the 3th column (index 3) should be weight with prior time-step\n",
    "#     # characters by a factor of 0.25 (i.e. each character holds 1/4th importance in the entire representation of that chunk of characters)\n",
    "#     #\n",
    "\n",
    "# print(wei, wei.shape, x.shape)\n",
    "# # wei is (T, T), \n",
    "# # x is (B, T, C)\n",
    "# # Broadcasting makes wei a (B, T, T)\n",
    "# # Result is a (B, T, C) \n",
    "# xbow3 = wei @ x\n",
    "# torch.allclose(xbow,  xbow3)"
   ]
  },
  {
   "cell_type": "code",
   "execution_count": null,
   "id": "615286d7-a4e5-47fc-adc2-616c8c0594a2",
   "metadata": {},
   "outputs": [],
   "source": []
  }
 ],
 "metadata": {
  "kernelspec": {
   "display_name": "Python 3 (ipykernel)",
   "language": "python",
   "name": "python3"
  },
  "language_info": {
   "codemirror_mode": {
    "name": "ipython",
    "version": 3
   },
   "file_extension": ".py",
   "mimetype": "text/x-python",
   "name": "python",
   "nbconvert_exporter": "python",
   "pygments_lexer": "ipython3",
   "version": "3.12.5"
  }
 },
 "nbformat": 4,
 "nbformat_minor": 5
}
