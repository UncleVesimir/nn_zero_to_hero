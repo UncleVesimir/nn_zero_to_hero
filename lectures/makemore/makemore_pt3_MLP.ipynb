{
 "cells": [
  {
   "cell_type": "code",
   "execution_count": 217,
   "id": "51d2b163-3946-4f24-8d7c-5003ab66311c",
   "metadata": {},
   "outputs": [],
   "source": [
    "import torch\n",
    "import torch.nn.functional as F\n",
    "import matplotlib.pyplot as plt\n",
    "%matplotlib inline\n"
   ]
  },
  {
   "cell_type": "code",
   "execution_count": 218,
   "id": "37ec6ef8-c56c-433e-aba7-5f05269fc3f9",
   "metadata": {},
   "outputs": [
    {
     "data": {
      "text/plain": [
       "['emma', 'olivia']"
      ]
     },
     "execution_count": 218,
     "metadata": {},
     "output_type": "execute_result"
    }
   ],
   "source": [
    "words = open('names.txt', 'r').read().splitlines()\n",
    "words[:2]"
   ]
  },
  {
   "cell_type": "code",
   "execution_count": 219,
   "id": "831593db-20d4-4956-a2d3-d3d3b2ee79f6",
   "metadata": {},
   "outputs": [],
   "source": [
    "chars = sorted(list(set(''.join(words))))\n",
    "chars.insert(0, '.')\n",
    "\n",
    "stoi = {c:i for i,c in enumerate(chars)}\n",
    "itos = { i:c for i,c in enumerate(chars)}\n",
    "vocab_size = len(itos)"
   ]
  },
  {
   "cell_type": "code",
   "execution_count": 220,
   "id": "861d05f2-0326-4862-aafe-e2c7e25b754e",
   "metadata": {},
   "outputs": [
    {
     "name": "stdout",
     "output_type": "stream",
     "text": [
      "torch.Size([156999, 3]) torch.Size([156999])\n",
      "torch.Size([19452, 3]) torch.Size([19452])\n",
      "torch.Size([19662, 3]) torch.Size([19662])\n"
     ]
    }
   ],
   "source": [
    "import random\n",
    "\n",
    "block_size = 3\n",
    "\n",
    "def build_dataset(words):\n",
    "    X, Y = [], []\n",
    "    \n",
    "    for w in words:\n",
    "        # print(w)\n",
    "        context = [0] * block_size\n",
    "        for ch in w:\n",
    "            ix = stoi[ch]\n",
    "            X.append(context)\n",
    "    \n",
    "            Y.append(ix)\n",
    "            # print(''.join(itos[i] for i in context), ' --->', itos[ix])\n",
    "            context = context[1:] + [ix]\n",
    "    X = torch.tensor(X)\n",
    "    Y = torch.tensor(Y)\n",
    "    print(X.shape, Y. shape)\n",
    "    return X, Y\n",
    "\n",
    "random.seed(42)\n",
    "random.shuffle(words)\n",
    "\n",
    "n1 = int(0.8*len(words))\n",
    "n2 = int(0.9*len(words))\n",
    "\n",
    "\n",
    "Xtr, Ytr = build_dataset(words[:n1])\n",
    "Xdev, Ydev = build_dataset(words[n1:n2])\n",
    "Xte, Yte = build_dataset(words[n2:])"
   ]
  },
  {
   "cell_type": "code",
   "execution_count": 221,
   "id": "3e245eb4-0fec-4935-9cf3-f3d0532f810d",
   "metadata": {},
   "outputs": [
    {
     "name": "stdout",
     "output_type": "stream",
     "text": [
      "Total number of params: 11897\n"
     ]
    }
   ],
   "source": [
    "n_embed = 10\n",
    "n_hidden = 200\n",
    "\n",
    "g = torch.Generator().manual_seed(2147483647)\n",
    "\n",
    "C = torch.randn((vocab_size, n_embed), generator=g) # 2 col embedding vector for each character\n",
    "W1 = torch.randn((block_size * n_embed, n_hidden), generator=g) # input is 6 as we are passing in 3 chars as inputs, \n",
    "# but in there embedding form (so 3 embeddings flattened). 100 out is design choice\n",
    "b1 = torch.randn(n_hidden, generator=g) * 0\n",
    "W2 = torch.randn((n_hidden, vocab_size), generator=g) * 0.01\n",
    "b2 = torch.randn(vocab_size, generator=g) * 0 \n",
    "\n",
    "parameters = [C, W1, b1, W2, b2]\n",
    "print(f\"Total number of params: {sum(p.nelement() for p in parameters)}\")\n",
    "for p in parameters:\n",
    "    p.requires_grad = True"
   ]
  },
  {
   "cell_type": "code",
   "execution_count": 222,
   "id": "d0a31cf9-3ca7-4f22-8157-796191743c85",
   "metadata": {},
   "outputs": [
    {
     "name": "stdout",
     "output_type": "stream",
     "text": [
      "      0/ 200000: 3.2974\n",
      "  10000/ 200000: 2.4987\n",
      "  20000/ 200000: 2.1232\n",
      "  30000/ 200000: 1.9750\n",
      "  40000/ 200000: 2.8610\n",
      "  50000/ 200000: 1.9201\n",
      "  60000/ 200000: 1.6206\n",
      "  70000/ 200000: 2.1686\n",
      "  80000/ 200000: 2.2651\n",
      "  90000/ 200000: 2.2406\n",
      " 100000/ 200000: 2.1395\n",
      " 110000/ 200000: 2.0777\n",
      " 120000/ 200000: 2.1902\n",
      " 130000/ 200000: 2.3681\n",
      " 140000/ 200000: 1.9442\n",
      " 150000/ 200000: 2.2748\n",
      " 160000/ 200000: 2.2125\n",
      " 170000/ 200000: 2.0743\n",
      " 180000/ 200000: 2.6403\n",
      " 190000/ 200000: 2.6075\n"
     ]
    },
    {
     "data": {
      "text/plain": [
       "[<matplotlib.lines.Line2D at 0x2189ffb73e0>]"
      ]
     },
     "execution_count": 222,
     "metadata": {},
     "output_type": "execute_result"
    },
    {
     "data": {
      "image/png": "[encoded data removed]",
      "text/plain": [
       "<Figure size 640x480 with 1 Axes>"
      ]
     },
     "metadata": {},
     "output_type": "display_data"
    }
   ],
   "source": [
    "\n",
    "\n",
    "lre = torch.linspace(-3, 0, epochs)\n",
    "lrs = 10**lre\n",
    "lri = []\n",
    "lossi = []\n",
    "iz = []\n",
    "\n",
    "batch_size = 32\n",
    "max_steps = 200000\n",
    "\n",
    "\n",
    "\n",
    "for i in range(max_steps):\n",
    "    ## construct minibatch indexes\n",
    "    ix = torch.randint(0, Xtr.shape[0], (batch_size,), generator=g)\n",
    "    Xb, Yb = Xtr[ix], Ytr[ix]\n",
    "    ## forward pass\n",
    "    emb = C[Xb]\n",
    "    h = torch.tanh(emb.view(-1, int(C.shape[1] * X.shape[1])) @ W1 + b1) # (word-grams, 100)\n",
    "    logits = h @ W2 + b2 # (100, 27)\n",
    "    loss = F.cross_entropy(logits, Yb)\n",
    "    # print(f\"Loss at epoch {k}: {(loss.item()):.4f}, lr was {lrs[k]:.4f}\") \n",
    "    # backward pass\n",
    "    for p in parameters:\n",
    "        p.grad = None\n",
    "    loss.backward()\n",
    "\n",
    "    lr = 0.1 if i < 100000 else 0.01\n",
    "    # lr = 0.0001\n",
    "    #update\n",
    "    for p in parameters:\n",
    "        p.data += -lr * p.grad\n",
    "\n",
    "    # #track stats\n",
    "    if i % 10000 == 0:\n",
    "        print(f'{i:7d}/{max_steps:7d}: {loss.item():.4f}')\n",
    "    lossi.append(loss.log10().item())\n",
    "    iz.append(i)\n",
    "    # lri.append(lrs[k])\n",
    "    \n",
    "    \n",
    "# plt.plot(lri, lossi)\n",
    "\n",
    "plt.plot(iz, lossi)"
   ]
  },
  {
   "cell_type": "code",
   "execution_count": 208,
   "id": "26635583-7fdd-4cdf-b4cf-ca79ecf09f25",
   "metadata": {},
   "outputs": [
    {
     "name": "stdout",
     "output_type": "stream",
     "text": [
      "train 3.0381414890289307\n",
      "val 3.038398265838623\n"
     ]
    }
   ],
   "source": [
    "@torch.no_grad()\n",
    "def split_loss(split):\n",
    "    x, y = {\n",
    "        'train': (Xtr, Ytr),\n",
    "        'val': (Xdev, Ydev),\n",
    "        'test': (Xte, Yte),\n",
    "    }[split]\n",
    "    emb = C[x] # (test rows, block_size ) indexing a (word_size, n_embed) => (n_rows, block_size, n_embed) )\n",
    "    embcat = emb.view(emb.shape[0], -1) # (n_rows, embed_size * block_size * n_embed)\n",
    "    h = torch.tanh( embcat @ W1 + b1)\n",
    "    logits = h @ W2 + b2\n",
    "    loss = F.cross_entropy(logits, y)\n",
    "    print(split, loss.item())\n",
    "\n",
    "split_loss('train')\n",
    "split_loss('val')\n",
    "\n",
    "\n",
    "\n",
    "\n"
   ]
  },
  {
   "cell_type": "code",
   "execution_count": null,
   "id": "2d60344a-a812-4e1a-875c-c6ab5c0d0f1b",
   "metadata": {},
   "outputs": [],
   "source": [
    "for _ in range(20):\n",
    "    out = []\n",
    "    context = [0] * block_size #(3)\n",
    "    while True:\n",
    "        emb = C[torch.tensor([context])] # (1, 3) indexing a (27, 2) => (1, 3, 2)\n",
    "        h = torch.tanh(emb.view(1, -1) @ W1 + b1) # (1, 6) @ (6, 100)\n",
    "        logits = h @ W2 + b2\n",
    "        probs = F.softmax(logits, dim=1)\n",
    "        ix = torch.multinomial(probs, num_samples=1, generator=g).item()\n",
    "        context = context[1:] + [ix]\n",
    "        out.append(ix)\n",
    "        if ix == 0:\n",
    "            break\n",
    "    print(''.join(itos[i] for i in out))"
   ]
  }
 ],
 "metadata": {
  "kernelspec": {
   "display_name": "Python (ai_dev)",
   "language": "python",
   "name": "ai_dev"
  },
  "language_info": {
   "codemirror_mode": {
    "name": "ipython",
    "version": 3
   },
   "file_extension": ".py",
   "mimetype": "text/x-python",
   "name": "python",
   "nbconvert_exporter": "python",
   "pygments_lexer": "ipython3",
   "version": "3.12.3"
  }
 },
 "nbformat": 4,
 "nbformat_minor": 5
}
