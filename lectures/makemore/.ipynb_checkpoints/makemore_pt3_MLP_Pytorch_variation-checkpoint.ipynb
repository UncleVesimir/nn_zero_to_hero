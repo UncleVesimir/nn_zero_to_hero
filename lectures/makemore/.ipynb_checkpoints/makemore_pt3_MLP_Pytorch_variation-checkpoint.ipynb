{
 "cells": [
  {
   "cell_type": "code",
   "execution_count": 40,
   "id": "51d2b163-3946-4f24-8d7c-5003ab66311c",
   "metadata": {},
   "outputs": [],
   "source": [
    "import torch\n",
    "import torch.nn.functional as F\n",
    "import matplotlib.pyplot as plt\n",
    "%matplotlib inline\n"
   ]
  },
  {
   "cell_type": "code",
   "execution_count": 41,
   "id": "37ec6ef8-c56c-433e-aba7-5f05269fc3f9",
   "metadata": {},
   "outputs": [
    {
     "data": {
      "text/plain": [
       "['emma', 'olivia']"
      ]
     },
     "execution_count": 41,
     "metadata": {},
     "output_type": "execute_result"
    }
   ],
   "source": [
    "words = open('names.txt', 'r').read().splitlines()\n",
    "words[:2]"
   ]
  },
  {
   "cell_type": "code",
   "execution_count": 42,
   "id": "831593db-20d4-4956-a2d3-d3d3b2ee79f6",
   "metadata": {},
   "outputs": [],
   "source": [
    "chars = sorted(list(set(''.join(words))))\n",
    "chars.insert(0, '.')\n",
    "\n",
    "stoi = {c:i for i,c in enumerate(chars)}\n",
    "itos = { i:c for i,c in enumerate(chars)}\n",
    "vocab_size = len(itos)"
   ]
  },
  {
   "cell_type": "code",
   "execution_count": 121,
   "id": "861d05f2-0326-4862-aafe-e2c7e25b754e",
   "metadata": {},
   "outputs": [
    {
     "name": "stdout",
     "output_type": "stream",
     "text": [
      "torch.Size([156886, 3]) torch.Size([156886])\n",
      "torch.Size([19657, 3]) torch.Size([19657])\n",
      "torch.Size([19570, 3]) torch.Size([19570])\n"
     ]
    }
   ],
   "source": [
    "import random\n",
    "\n",
    "block_size = 3\n",
    "\n",
    "def build_dataset(words):\n",
    "    X, Y = [], []\n",
    "    \n",
    "    for w in words:\n",
    "        # print(w)\n",
    "        context = [0] * block_size\n",
    "        for ch in w:\n",
    "            ix = stoi[ch]\n",
    "            X.append(context)\n",
    "    \n",
    "            Y.append(ix)\n",
    "            # print(''.join(itos[i] for i in context), ' --->', itos[ix])\n",
    "            context = context[1:] + [ix]\n",
    "    X = torch.tensor(X)\n",
    "    Y = torch.tensor(Y)\n",
    "    print(X.shape, Y. shape)\n",
    "    return X, Y\n",
    "\n",
    "random.seed(42)\n",
    "random.shuffle(words)\n",
    "\n",
    "n1 = int(0.8*len(words))\n",
    "n2 = int(0.9*len(words))\n",
    "\n",
    "\n",
    "Xtr, Ytr = build_dataset(words[:n1])\n",
    "Xdev, Ydev = build_dataset(words[n1:n2])\n",
    "Xte, Yte = build_dataset(words[n2:])"
   ]
  },
  {
   "cell_type": "code",
   "execution_count": 131,
   "id": "3e245eb4-0fec-4935-9cf3-f3d0532f810d",
   "metadata": {},
   "outputs": [
    {
     "name": "stdout",
     "output_type": "stream",
     "text": [
      "Total number of params: 12297\n"
     ]
    }
   ],
   "source": [
    "n_embed = 10\n",
    "n_hidden = 200\n",
    "\n",
    "g = torch.Generator().manual_seed(2147483647)\n",
    "\n",
    "C = torch.randn((vocab_size, n_embed), generator=g) # 2 col embedding vector for each character\n",
    "W1 = torch.randn((block_size * n_embed, n_hidden), generator=g) * 0.2 # Normalize/reduce values of W1 to avoid saturation of tanh activation\n",
    "# but in there embedding form (so 3 embeddings flattened). 100 out is design choice\n",
    "# b1 = torch.randn(n_hidden, generator=g) * 0.01 ## setting biases to close to 0, as at step 0, we want to avoid having probabilities > 1/vocab_size\n",
    " ## because why should an untrained network know to output one character over another\n",
    "W2 = torch.randn((n_hidden, vocab_size), generator=g) * 0.01 ## we reduce weights by factor of 10^-2 for similar reasons here\n",
    "## Because if resultant logits are large, it implies false confidence in specific characters. Unless the Y indexes pick out those high values\n",
    "## the resultant loss will be large\n",
    "b2 = torch.randn(vocab_size, generator=g) * 0 \n",
    "\n",
    "bngain = torch.ones((1, n_hidden))\n",
    "bnbias = torch.ones((1, n_hidden))\n",
    "\n",
    "bnmean_running = torch.ones((1, n_hidden))\n",
    "bnstd_running = torch.ones((1, n_hidden))\n",
    "\n",
    "parameters = [C, W1, b1, W2, b2, bngain, bnbias]\n",
    "print(f\"Total number of params: {sum(p.nelement() for p in parameters)}\")\n",
    "for p in parameters:\n",
    "    p.requires_grad = True"
   ]
  },
  {
   "cell_type": "code",
   "execution_count": 123,
   "id": "5531d2a7-4edd-4c3c-8a47-649e2f200090",
   "metadata": {},
   "outputs": [],
   "source": [
    "# # if we are lucky with inital random assignment\n",
    "# logits1 = torch.tensor([0.0, 2.0, -0.3, -10.1])\n",
    "# probs1 = torch.softmax(logits1, dim=0)\n",
    "# loss1 = -probs1[1].log() #1 is the training Y index, and is fortunately large, so loss will be low\n",
    "\n",
    "\n",
    "# #bad logits due to large inital weights example -> leads to large loss we have to mediate in first N steps (uncessary work!)\n",
    "# logits2 = torch.tensor([0.0, 7.0, -3.0, 1.0])\n",
    "# exp2 = logits2.exp()\n",
    "# probs2 =  torch.softmax(logits2, dim=0)\n",
    "# loss2 = probs2[2].log() #here we assume the correct output char is at index 2\n",
    "# logits1, probs1, loss1, logits2, exp2, probs2, loss2"
   ]
  },
  {
   "cell_type": "code",
   "execution_count": 132,
   "id": "d0a31cf9-3ca7-4f22-8157-796191743c85",
   "metadata": {},
   "outputs": [
    {
     "name": "stdout",
     "output_type": "stream",
     "text": [
      "      0/ 200000: 3.2975\n",
      "  10000/ 200000: 2.3468\n",
      "  20000/ 200000: 2.3918\n",
      "  30000/ 200000: 2.5945\n",
      "  40000/ 200000: 2.3617\n",
      "  50000/ 200000: 1.9462\n",
      "  60000/ 200000: 2.2023\n",
      "  70000/ 200000: 2.4082\n",
      "  80000/ 200000: 1.9290\n",
      "  90000/ 200000: 1.8294\n",
      " 100000/ 200000: 2.1655\n",
      " 110000/ 200000: 2.1380\n",
      " 120000/ 200000: 2.4132\n",
      " 130000/ 200000: 2.2668\n",
      " 140000/ 200000: 2.2327\n",
      " 150000/ 200000: 2.2684\n",
      " 160000/ 200000: 2.2384\n",
      " 170000/ 200000: 2.0544\n",
      " 180000/ 200000: 2.3246\n",
      " 190000/ 200000: 2.1754\n"
     ]
    }
   ],
   "source": [
    "\n",
    "\n",
    "# lre = torch.linspace(-3, 0, epochs)\n",
    "# lrs = 10**lre\n",
    "# lri = []\n",
    "\n",
    "batch_size = 32\n",
    "max_steps = 200000\n",
    "\n",
    "lossi = []\n",
    "# iz = []\n",
    "\n",
    "\n",
    "for i in range(max_steps):\n",
    "    ## construct minibatch indexes\n",
    "    ix = torch.randint(0, Xtr.shape[0], (batch_size,), generator=g)\n",
    "    Xb, Yb = Xtr[ix], Ytr[ix]\n",
    "    ## forward pass\n",
    "    emb = C[Xb]\n",
    "    embcat = emb.view(-1, int(C.shape[1] * Xb.shape[1]))\n",
    "    hpreact = embcat @ W1 #+ b1 #when using batch normalization, bnmean effectively strips the layer bias out and bnbias takes over this role, so we can remove it\n",
    "        ## BatchNorm Layer\n",
    "    bnmeani = hpreact.mean(0, keepdim=True)\n",
    "    bnstdi = hpreact.std(0, keepdim=True)\n",
    "    \n",
    "    hpreact =  bngain * ((hpreact - bnmeani)/ bnstdi) + bnbias\n",
    "\n",
    "        #accumulate estimate for bnmean and bnstd for entire training set\n",
    "    with torch.no_grad():\n",
    "        bnmean_running = 0.999 * bnmean_running + 0.001 * bnmeani\n",
    "        bnstd_running = 0.999 * bnstd_running + 0.001 * bnstdi\n",
    "        \n",
    "    h = torch.tanh( hpreact) # (word-grams, 100)\n",
    "    logits = h @ W2 + b2 # (100, 27)\n",
    "    loss = F.cross_entropy(logits, Yb)\n",
    "    # print(f\"Loss at epoch {k}: {(loss.item()):.4f}, lr was {lrs[k]:.4f}\") \n",
    "    # backward pass\n",
    "    for p in parameters:\n",
    "        p.grad = None\n",
    "    loss.backward()\n",
    "\n",
    "    lr = 0.1 if i < 100000 else 0.01\n",
    "    # lr = 0.0001\n",
    "    #update\n",
    "    for p in parameters:\n",
    "        p.data += -lr * p.grad\n",
    "\n",
    "    # #track stats\n",
    "    if i % 10000 == 0:\n",
    "        print(f'{i:7d}/{max_steps:7d}: {loss.item():.4f}')\n",
    "    lossi.append(loss.log10().item())\n",
    "    # lri.append(lrs[k])\n",
    "    # break  \n",
    "# plt.plot(lri"
   ]
  },
  {
   "cell_type": "code",
   "execution_count": 109,
   "id": "bfb879df-e8a5-4090-8c27-fa7fb0f19c54",
   "metadata": {},
   "outputs": [],
   "source": [
    "# import math\n",
    "# import numpy as np\n",
    "# xx = np.arange(-12, 12, 0.1)\n",
    "# yy = np.tanh(xx)\n",
    "\n",
    "# plt.plot(xx, yy)"
   ]
  },
  {
   "cell_type": "code",
   "execution_count": 110,
   "id": "0bda5246-2ad8-47b8-9946-2de5d4767d2b",
   "metadata": {},
   "outputs": [
    {
     "name": "stderr",
     "output_type": "stream",
     "text": [
      "UsageError: Cell magic `%%skip` not found.\n"
     ]
    }
   ],
   "source": [
    "%%skip\n",
    "## Without normalization, majority of values in h are -1 and 1 (tanh 'squashes' between -1 and 1)\n",
    "## recalling that gradient of tanh => (1 - x**2) * grad, if any value of h is 1 or -1, the resultant gradient will be 0 (I.e. the gradient will be dead from then on!)\n",
    "## this makes sense, as, for large values above tanh squashes values to 1 or -1 and stops. So gradient in that region IS 0.\n",
    "\n",
    "# ##for this reason, we need to normalize\n",
    "plt.hist(h.view(-1).tolist(), 50);"
   ]
  },
  {
   "cell_type": "code",
   "execution_count": 111,
   "id": "70e7f5ea-3747-46ea-a3c2-17ea47e57928",
   "metadata": {},
   "outputs": [
    {
     "data": {
      "image/png": "[encoded data removed]",
      "text/plain": [
       "<Figure size 640x480 with 1 Axes>"
      ]
     },
     "metadata": {},
     "output_type": "display_data"
    }
   ],
   "source": [
    "# WITH normalization of weights:\n",
    "# ##for this reason, we need to normalize\n",
    "plt.hist(h.view(-1).tolist(), 50);"
   ]
  },
  {
   "cell_type": "code",
   "execution_count": 112,
   "id": "d53da973-0c58-4978-ab64-2e596b75dea5",
   "metadata": {},
   "outputs": [
    {
     "data": {
      "image/png": "[encoded data removed]",
      "text/plain": [
       "<Figure size 640x480 with 1 Axes>"
      ]
     },
     "metadata": {},
     "output_type": "display_data"
    }
   ],
   "source": [
    "# (with W1 randomly initialized, no normalization) if we inspect the activations flowing into tanh, we can see that many values sit above the tanh thresholds, and will result in many outputs of 1 or -1!\n",
    "# otherwise, we see a histogram that sits nicely without bounds of -1 and 1\n",
    "plt.hist(hpreact.view(-1).tolist(), 50);"
   ]
  },
  {
   "cell_type": "code",
   "execution_count": 113,
   "id": "94d1a1ce-8d2c-4326-a7ba-9d4a64bdcdc5",
   "metadata": {},
   "outputs": [
    {
     "data": {
      "text/plain": [
       "<matplotlib.image.AxesImage at 0x16f4cce0f80>"
      ]
     },
     "execution_count": 113,
     "metadata": {},
     "output_type": "execute_result"
    },
    {
     "data": {
      "image/png": "[encoded data removed]",
      "text/plain": [
       "<Figure size 2000x1000 with 1 Axes>"
      ]
     },
     "metadata": {},
     "output_type": "display_data"
    }
   ],
   "source": [
    "# here we can visualize the number of activations that will set the resultant gradient to 0 in a backward pass (white squares)\n",
    "# note that each row shows the 200 weights for each sample. If a column is all white, you have a dead neuron!\n",
    "plt.figure(figsize=(20,10))\n",
    "plt.imshow(h.abs() > 0.99, cmap=\"gray\", interpolation=\"nearest\")"
   ]
  },
  {
   "cell_type": "code",
   "execution_count": 127,
   "id": "b38a05e2-98ee-41a5-aed7-1195a554a74e",
   "metadata": {},
   "outputs": [],
   "source": [
    "# # calibrate the batch norm at end of training\n",
    "\n",
    "# with torch.no_grad():\n",
    "#     # pass training set through\n",
    "#     emb = C[Xtr]\n",
    "#     embcat = emb.view(emb.shape[0], -1)\n",
    "#     hpreact = embcat @ W1 + b1\n",
    "#     #measure mean and std dev over entire training set\n",
    "#     bnmean = hpreact.mean(0, keepdim=True)\n",
    "#     bnstd = hpreact.std(0, keepdim=True)"
   ]
  },
  {
   "cell_type": "code",
   "execution_count": 133,
   "id": "26635583-7fdd-4cdf-b4cf-ca79ecf09f25",
   "metadata": {},
   "outputs": [
    {
     "name": "stdout",
     "output_type": "stream",
     "text": [
      "train 2.1040475368499756\n",
      "val 2.1498501300811768\n"
     ]
    }
   ],
   "source": [
    "@torch.no_grad()\n",
    "def split_loss(split):\n",
    "    x, y = {\n",
    "        'train': (Xtr, Ytr),\n",
    "        'val': (Xdev, Ydev),\n",
    "        'test': (Xte, Yte),\n",
    "    }[split]\n",
    "    emb = C[x] # (test rows, block_size ) indexing a (word_size, n_embed) => (n_rows, block_size, n_embed) )\n",
    "    embcat = emb.view(emb.shape[0], -1) # (n_rows, embed_size * block_size * n_embed)a\n",
    "    hpreact = embcat @ W1 + b1\n",
    "    hpreact =  bngain * ((hpreact - bnmean_running)/ bnstd_running) + bnbias ##using batch norm over entire training set vs. those calc'd during training\n",
    "    h = torch.tanh( hpreact) # (word-grams, 100)\n",
    "    logits = h @ W2 + b2\n",
    "    loss = F.cross_entropy(logits, y)\n",
    "    print(split, loss.item())\n",
    "\n",
    "split_loss('train')\n",
    "split_loss('val')\n",
    "\n",
    "\n",
    "\n",
    "\n"
   ]
  },
  {
   "cell_type": "code",
   "execution_count": null,
   "id": "2d60344a-a812-4e1a-875c-c6ab5c0d0f1b",
   "metadata": {},
   "outputs": [],
   "source": [
    "for _ in range(20):\n",
    "    out = []\n",
    "    context = [0] * block_size #(3)\n",
    "    while True:\n",
    "        emb = C[torch.tensor([context])] # (1, 3) indexing a (27, 2) => (1, 3, 2)\n",
    "        h = torch.tanh(emb.view(1, -1) @ W1 + b1) # (1, 6) @ (6, 100)\n",
    "        logits = h @ W2 + b2\n",
    "        probs = F.softmax(logits, dim=1)\n",
    "        ix = torch.multinomial(probs, num_samples=1, generator=g).item()\n",
    "        context = context[1:] + [ix]\n",
    "        out.append(ix)\n",
    "        if ix == 0:\n",
    "            break\n",
    "    print(''.join(itos[i] for i in out))"
   ]
  }
 ],
 "metadata": {
  "kernelspec": {
   "display_name": "Python 3 (ipykernel)",
   "language": "python",
   "name": "python3"
  },
  "language_info": {
   "codemirror_mode": {
    "name": "ipython",
    "version": 3
   },
   "file_extension": ".py",
   "mimetype": "text/x-python",
   "name": "python",
   "nbconvert_exporter": "python",
   "pygments_lexer": "ipython3",
   "version": "3.12.5"
  }
 },
 "nbformat": 4,
 "nbformat_minor": 5
}
